{
 "cells": [
  {
   "cell_type": "code",
   "execution_count": 1,
   "metadata": {
    "_cell_guid": "64715f6b-5df9-4dd2-aa29-227e23bc5be7",
    "_uuid": "b789088311137a3189a5084c70c3e76f48482529"
   },
   "outputs": [
    {
     "name": "stderr",
     "output_type": "stream",
     "text": [
      "── Attaching packages ─────────────────────────────────────── tidyverse 1.2.1 ──\n",
      "✔ tibble  1.3.4     ✔ dplyr   0.7.4\n",
      "✔ tidyr   0.7.2     ✔ stringr 1.2.0\n",
      "✔ purrr   0.2.4     ✔ forcats 0.2.0\n",
      "── Conflicts ────────────────────────────────────────── tidyverse_conflicts() ──\n",
      "✖ dplyr::filter() masks stats::filter()\n",
      "✖ dplyr::lag()    masks stats::lag()\n"
     ]
    },
    {
     "name": "stdout",
     "output_type": "stream",
     "text": [
      "'data.frame':\t891 obs. of  13 variables:\n",
      " $ PassengerId: int  1 2 3 4 5 6 7 8 9 10 ...\n",
      " $ Survived   : int  0 1 1 1 0 0 0 0 1 1 ...\n",
      " $ Pclass     : int  3 1 3 1 3 3 1 3 3 2 ...\n",
      " $ Name       : Factor w/ 891 levels \"Abbing, Mr. Anthony\",..: 109 191 358 277 16 559 520 629 417 581 ...\n",
      " $ Sex        : Factor w/ 2 levels \"female\",\"male\": 2 1 1 1 2 2 2 2 1 1 ...\n",
      " $ Age        : num  22 38 26 35 35 NA 54 2 27 14 ...\n",
      " $ SibSp      : int  1 1 0 1 0 0 0 3 0 1 ...\n",
      " $ Parch      : int  0 0 0 0 0 0 0 1 2 0 ...\n",
      " $ Ticket     : Factor w/ 681 levels \"110152\",\"110413\",..: 524 597 670 50 473 276 86 396 345 133 ...\n",
      " $ Fare       : num  7.25 71.28 7.92 53.1 8.05 ...\n",
      " $ Cabin      : Factor w/ 148 levels \"\",\"A10\",\"A14\",..: 1 83 1 57 1 1 131 1 1 1 ...\n",
      " $ Embarked   : Factor w/ 4 levels \"\",\"C\",\"Q\",\"S\": 4 2 4 4 4 3 4 4 4 2 ...\n",
      " $ Origin     : num  1 1 1 1 1 1 1 1 1 1 ...\n",
      "'data.frame':\t418 obs. of  13 variables:\n",
      " $ PassengerId: int  892 893 894 895 896 897 898 899 900 901 ...\n",
      " $ Pclass     : int  3 3 2 3 3 3 3 2 3 3 ...\n",
      " $ Name       : Factor w/ 418 levels \"Abbott, Master. Eugene Joseph\",..: 210 409 273 414 182 370 85 58 5 104 ...\n",
      " $ Sex        : Factor w/ 2 levels \"female\",\"male\": 2 1 2 2 1 2 1 2 1 2 ...\n",
      " $ Age        : num  34.5 47 62 27 22 14 30 26 18 21 ...\n",
      " $ SibSp      : int  0 1 0 0 1 0 0 1 0 2 ...\n",
      " $ Parch      : int  0 0 0 0 1 0 0 1 0 0 ...\n",
      " $ Ticket     : Factor w/ 363 levels \"110469\",\"110489\",..: 153 222 74 148 139 262 159 85 101 270 ...\n",
      " $ Fare       : num  7.83 7 9.69 8.66 12.29 ...\n",
      " $ Cabin      : Factor w/ 77 levels \"\",\"A11\",\"A18\",..: 1 1 1 1 1 1 1 1 1 1 ...\n",
      " $ Embarked   : Factor w/ 3 levels \"C\",\"Q\",\"S\": 2 3 2 3 3 3 2 3 1 3 ...\n",
      " $ Origin     : num  2 2 2 2 2 2 2 2 2 2 ...\n",
      " $ Survived   : num  3 3 3 3 3 3 3 3 3 3 ...\n"
     ]
    }
   ],
   "source": [
    "library(ggplot2) # Data visualization\n",
    "library(readr) # CSV file I/O, e.g. the read_csv function\n",
    "library(tidyverse)\n",
    "\n",
    "#Loading datasets\n",
    "train_dataset = read.csv('../input/train.csv')\n",
    "train_dataset_PassangerID = NULL\n",
    "train_dataset$Origin = 1\n",
    "test_dataset = read.csv('../input/test.csv')\n",
    "test_dataset$Origin = 2\n",
    "test_dataset$Survived = 3\n",
    "full_dataset = rbind(train_dataset, test_dataset)\n",
    "str(train_dataset)\n",
    "str(test_dataset)\n"
   ]
  },
  {
   "cell_type": "code",
   "execution_count": 2,
   "metadata": {
    "_cell_guid": "1050c79d-1c12-4165-a3bb-5a810e75c24f",
    "_uuid": "5db6dce671f94f7bcbfc9b9eed5ae251457b06f9"
   },
   "outputs": [
    {
     "data": {
      "text/plain": [
       "\n",
       " Mr.  Mrs.   Ms.  \n",
       "  845   200   264 "
      ]
     },
     "metadata": {},
     "output_type": "display_data"
    }
   ],
   "source": [
    "# Split name into title and laste name\n",
    "full_dataset$LastName = substring(full_dataset$Name, 1, regexpr(',', full_dataset$Name)-1)\n",
    "full_dataset$Temp    = substring(full_dataset$Name, regexpr(',', full_dataset$Name)+2)\n",
    "full_dataset$Title  = substring(full_dataset$Temp, 1, regexpr(' ', full_dataset$Temp))\n",
    "full_dataset$Title = ifelse(full_dataset$Title == \"Capt. \" , \"Mr. \" , full_dataset$Title)\n",
    "full_dataset$Title = ifelse(full_dataset$Title == \"Col. \" , \"Mr. \" , full_dataset$Title)\n",
    "full_dataset$Title = ifelse(full_dataset$Title == \"Dr. \" , \"Mr. \" , full_dataset$Title)\n",
    "full_dataset$Title = ifelse(full_dataset$Title == \"Jonkheer. \" , \"Mr. \" , full_dataset$Title)\n",
    "full_dataset$Title = ifelse(full_dataset$Title == \"Don. \" , \"Mr. \" , full_dataset$Title)\n",
    "full_dataset$Title = ifelse(full_dataset$Title == \"Major. \" , \"Mr. \" , full_dataset$Title)\n",
    "full_dataset$Title = ifelse(full_dataset$Title == \"Master. \" , \"Mr. \" , full_dataset$Title)\n",
    "full_dataset$Title = ifelse(full_dataset$Title == \"Rev. \" , \"Mr. \" , full_dataset$Title)\n",
    "full_dataset$Title = ifelse(full_dataset$Title == \"Sir. \" , \"Mr. \" , full_dataset$Title)\n",
    "full_dataset$Title = ifelse(full_dataset$Title == \"the \" , \"Mr. \" , full_dataset$Title)\n",
    "full_dataset$Title = ifelse(full_dataset$Title == \"Lady. \" , \"Mrs. \" , full_dataset$Title)\n",
    "full_dataset$Title = ifelse(full_dataset$Title == \"Mme. \" , \"Mrs. \" , full_dataset$Title)\n",
    "full_dataset$Title = ifelse(full_dataset$Title == \"Dona. \" , \"Mrs. \" , full_dataset$Title)\n",
    "full_dataset$Title = ifelse(full_dataset$Title == \"Mlle. \" , \"Ms. \" , full_dataset$Title)\n",
    "full_dataset$Title = ifelse(full_dataset$Title == \"Miss. \" , \"Ms. \" , full_dataset$Title)\n",
    "table(full_dataset$Title)\n",
    "full_dataset$Title = factor(full_dataset$Title, levels = c(\"Mr. \", \"Mrs. \", \"Ms. \"), labels = c(1,2,3))\n",
    "full_dataset$Title = strtoi(full_dataset$Title)\n",
    "\n",
    "# Remove Name \n",
    "full_dataset$Name = NULL\n",
    "\n",
    "# Remove ticket\n",
    "full_dataset$Ticket = NULL"
   ]
  },
  {
   "cell_type": "code",
   "execution_count": 3,
   "metadata": {
    "_cell_guid": "23cf56c7-c863-424b-82fb-8fe4065d550e",
    "_uuid": "dd2cf62f947e26c9fcf8519d02f22c31730934f8"
   },
   "outputs": [
    {
     "data": {
      "text/plain": [
       "\n",
       "  1   2   3 \n",
       "914 270 123 "
      ]
     },
     "metadata": {},
     "output_type": "display_data"
    }
   ],
   "source": [
    "# Change Sex to 0 or 1\n",
    "full_dataset$Sex = factor(full_dataset$Sex, levels = c('male', 'female'), labels = c(1,2))\n",
    "full_dataset$Sex = strtoi(full_dataset$Sex)\n",
    "\n",
    "# Change Embarked to 1,2 or 3\n",
    "full_dataset$Embarked = factor(full_dataset$Embarked, levels = c('S', 'C', 'Q'), labels = c(1,2,3))\n",
    "full_dataset$Embarked = strtoi(full_dataset$Embarked)\n",
    "table(full_dataset$Embarked)\n",
    "full_dataset$Embarked = ifelse(is.na(full_dataset$Embarked), 2, full_dataset$Embarked)\n",
    "\n",
    "\n",
    "# Cabin Section - 0 indicate unknown cabin\n",
    "full_dataset$CabinSection = substr(full_dataset$Cabin, 1, 1)\n",
    "full_dataset$CabinSection = ifelse(full_dataset$CabinSection == '', 'Z', full_dataset$CabinSection)\n",
    "full_dataset$CabinSection = factor(full_dataset$CabinSection, \n",
    "                          levels = c('A','B','C','D','E','F','G','T','Z'), \n",
    "                          labels = c( 1 , 2 , 3 , 4 , 5 , 6 , 7 , 8 , 0 ))\n",
    "full_dataset$CabinSection = strtoi(full_dataset$CabinSection)\n",
    "\n",
    "# Remove original Cabin\n",
    "full_dataset$Cabin = NULL\n",
    "\n",
    "# Add family size variable\n",
    "full_dataset$FamilySize = full_dataset$SibSp + full_dataset$Parch + 1\n",
    "full_dataset$FsizeD[full_dataset$FamilySize == 1] = '1'\n",
    "full_dataset$FsizeD[full_dataset$FamilySize < 5 & full_dataset$FamilySize > 1 ] = '2'\n",
    "full_dataset$FsizeD[full_dataset$FamilySize > 4] = '3'\n",
    "full_dataset$FsizeD = strtoi(full_dataset$FsizeD)\n",
    "\n",
    "#full_dataset$FsizeD = factor(full_dataset$FsizeD, levels = c('A', 'B', 'C'), labels = c(1,2,3))\n"
   ]
  },
  {
   "cell_type": "code",
   "execution_count": 4,
   "metadata": {
    "_cell_guid": "5e75756d-7efa-4213-8cf6-dab5647c25f6",
    "_uuid": "2f24ef4d88aa3d2676e1393477d638d5f11eec52"
   },
   "outputs": [
    {
     "data": {
      "text/html": [
       "<table>\n",
       "<thead><tr><th scope=col>Age</th><th scope=col>FsizeD</th><th scope=col>Sex</th><th scope=col>Pclass</th><th scope=col>Survived</th></tr></thead>\n",
       "<tbody>\n",
       "\t<tr><td>-0.5949198</td><td> 0.8552935</td><td>-0.737281 </td><td> 0.8269128</td><td>0         </td></tr>\n",
       "\t<tr><td> 0.6356395</td><td> 0.8552935</td><td> 1.354813 </td><td>-1.5652278</td><td>1         </td></tr>\n",
       "\t<tr><td>-0.2872799</td><td>-0.7490571</td><td> 1.354813 </td><td> 0.8269128</td><td>1         </td></tr>\n",
       "\t<tr><td> 0.4049096</td><td> 0.8552935</td><td> 1.354813 </td><td>-1.5652278</td><td>1         </td></tr>\n",
       "\t<tr><td> 0.4049096</td><td>-0.7490571</td><td>-0.737281 </td><td> 0.8269128</td><td>0         </td></tr>\n",
       "</tbody>\n",
       "</table>\n"
      ],
      "text/latex": [
       "\\begin{tabular}{r|lllll}\n",
       " Age & FsizeD & Sex & Pclass & Survived\\\\\n",
       "\\hline\n",
       "\t -0.5949198 &  0.8552935 & -0.737281  &  0.8269128 & 0         \\\\\n",
       "\t  0.6356395 &  0.8552935 &  1.354813  & -1.5652278 & 1         \\\\\n",
       "\t -0.2872799 & -0.7490571 &  1.354813  &  0.8269128 & 1         \\\\\n",
       "\t  0.4049096 &  0.8552935 &  1.354813  & -1.5652278 & 1         \\\\\n",
       "\t  0.4049096 & -0.7490571 & -0.737281  &  0.8269128 & 0         \\\\\n",
       "\\end{tabular}\n"
      ],
      "text/markdown": [
       "\n",
       "Age | FsizeD | Sex | Pclass | Survived | \n",
       "|---|---|---|---|---|\n",
       "| -0.5949198 |  0.8552935 | -0.737281  |  0.8269128 | 0          | \n",
       "|  0.6356395 |  0.8552935 |  1.354813  | -1.5652278 | 1          | \n",
       "| -0.2872799 | -0.7490571 |  1.354813  |  0.8269128 | 1          | \n",
       "|  0.4049096 |  0.8552935 |  1.354813  | -1.5652278 | 1          | \n",
       "|  0.4049096 | -0.7490571 | -0.737281  |  0.8269128 | 0          | \n",
       "\n",
       "\n"
      ],
      "text/plain": [
       "  Age        FsizeD     Sex       Pclass     Survived\n",
       "1 -0.5949198  0.8552935 -0.737281  0.8269128 0       \n",
       "2  0.6356395  0.8552935  1.354813 -1.5652278 1       \n",
       "3 -0.2872799 -0.7490571  1.354813  0.8269128 1       \n",
       "4  0.4049096  0.8552935  1.354813 -1.5652278 1       \n",
       "5  0.4049096 -0.7490571 -0.737281  0.8269128 0       "
      ]
     },
     "metadata": {},
     "output_type": "display_data"
    },
    {
     "name": "stdout",
     "output_type": "stream",
     "text": [
      "'data.frame':\t418 obs. of  16 variables:\n",
      " $ PassengerId : int  892 893 894 895 896 897 898 899 900 901 ...\n",
      " $ Survived    : num  3 3 3 3 3 3 3 3 3 3 ...\n",
      " $ Pclass      : int  3 3 2 3 3 3 3 2 3 3 ...\n",
      " $ Sex         : int  1 2 1 1 2 1 2 1 2 1 ...\n",
      " $ Age         : num  34.5 47 62 27 22 14 30 26 18 21 ...\n",
      " $ SibSp       : int  0 1 0 0 1 0 0 1 0 2 ...\n",
      " $ Parch       : int  0 0 0 0 1 0 0 1 0 0 ...\n",
      " $ Fare        : num  7.83 7 9.69 8.66 12.29 ...\n",
      " $ Embarked    : num  3 1 3 1 1 1 3 1 2 1 ...\n",
      " $ Origin      : num  2 2 2 2 2 2 2 2 2 2 ...\n",
      " $ LastName    : chr  \"Kelly\" \"Wilkes\" \"Myles\" \"Wirz\" ...\n",
      " $ Temp        : chr  \"Mr. James\" \"Mrs. James (Ellen Needs)\" \"Mr. Thomas Francis\" \"Mr. Albert\" ...\n",
      " $ Title       : int  1 2 1 1 2 1 3 1 2 1 ...\n",
      " $ CabinSection: int  0 0 0 0 0 0 0 0 0 0 ...\n",
      " $ FamilySize  : num  1 2 1 1 3 1 1 3 1 3 ...\n",
      " $ FsizeD      : int  1 2 1 1 2 1 1 2 1 2 ...\n"
     ]
    },
    {
     "data": {
      "text/html": [
       "<table>\n",
       "<thead><tr><th></th><th scope=col>PassengerId</th><th scope=col>Age</th><th scope=col>FsizeD</th><th scope=col>Sex</th><th scope=col>Pclass</th></tr></thead>\n",
       "<tbody>\n",
       "\t<tr><th scope=row>892</th><td>892       </td><td> 0.3409393</td><td>-0.7554579</td><td>-0.7550242</td><td> 0.8724364</td></tr>\n",
       "\t<tr><th scope=row>893</th><td>893       </td><td> 1.3302134</td><td> 0.9514686</td><td> 1.3212923</td><td> 0.8724364</td></tr>\n",
       "\t<tr><th scope=row>894</th><td>894       </td><td> 2.5173423</td><td>-0.7554579</td><td>-0.7550242</td><td>-0.3154412</td></tr>\n",
       "\t<tr><th scope=row>895</th><td>895       </td><td>-0.2526252</td><td>-0.7554579</td><td>-0.7550242</td><td> 0.8724364</td></tr>\n",
       "\t<tr><th scope=row>896</th><td>896       </td><td>-0.6483348</td><td> 0.9514686</td><td> 1.3212923</td><td> 0.8724364</td></tr>\n",
       "</tbody>\n",
       "</table>\n"
      ],
      "text/latex": [
       "\\begin{tabular}{r|lllll}\n",
       "  & PassengerId & Age & FsizeD & Sex & Pclass\\\\\n",
       "\\hline\n",
       "\t892 & 892        &  0.3409393 & -0.7554579 & -0.7550242 &  0.8724364\\\\\n",
       "\t893 & 893        &  1.3302134 &  0.9514686 &  1.3212923 &  0.8724364\\\\\n",
       "\t894 & 894        &  2.5173423 & -0.7554579 & -0.7550242 & -0.3154412\\\\\n",
       "\t895 & 895        & -0.2526252 & -0.7554579 & -0.7550242 &  0.8724364\\\\\n",
       "\t896 & 896        & -0.6483348 &  0.9514686 &  1.3212923 &  0.8724364\\\\\n",
       "\\end{tabular}\n"
      ],
      "text/markdown": [
       "\n",
       "| <!--/--> | PassengerId | Age | FsizeD | Sex | Pclass | \n",
       "|---|---|---|---|---|\n",
       "| 892 | 892        |  0.3409393 | -0.7554579 | -0.7550242 |  0.8724364 | \n",
       "| 893 | 893        |  1.3302134 |  0.9514686 |  1.3212923 |  0.8724364 | \n",
       "| 894 | 894        |  2.5173423 | -0.7554579 | -0.7550242 | -0.3154412 | \n",
       "| 895 | 895        | -0.2526252 | -0.7554579 | -0.7550242 |  0.8724364 | \n",
       "| 896 | 896        | -0.6483348 |  0.9514686 |  1.3212923 |  0.8724364 | \n",
       "\n",
       "\n"
      ],
      "text/plain": [
       "    PassengerId Age        FsizeD     Sex        Pclass    \n",
       "892 892          0.3409393 -0.7554579 -0.7550242  0.8724364\n",
       "893 893          1.3302134  0.9514686  1.3212923  0.8724364\n",
       "894 894          2.5173423 -0.7554579 -0.7550242 -0.3154412\n",
       "895 895         -0.2526252 -0.7554579 -0.7550242  0.8724364\n",
       "896 896         -0.6483348  0.9514686  1.3212923  0.8724364"
      ]
     },
     "metadata": {},
     "output_type": "display_data"
    }
   ],
   "source": [
    "# Estimating Age missing values\n",
    "#table(full_dataset$Age)\n",
    "#sum(is.na(full_dataset$Age))\n",
    "\n",
    "\n",
    "# Age has missing values - filling in with the mean\n",
    "# other options is to use MICE!!!\n",
    "full_dataset$Age = ifelse(is.na(full_dataset$Age),\n",
    "                     ave(full_dataset$Age, FUN = function(x) mean(x, na.rm = TRUE)),\n",
    "                     full_dataset$Age)               \n",
    "full_dataset$Fare = ifelse(is.na(full_dataset$Fare),\n",
    "                     ave(full_dataset$Fare, FUN = function(x) mean(x, na.rm = TRUE)),\n",
    "                     full_dataset$Fare) \n",
    "                           \n",
    "# Refactor all variables  \n",
    "train_dataset = full_dataset[1:891,]\n",
    "train_dataset = subset(train_dataset, select=c('Age','FsizeD', 'Sex' , 'Pclass', 'Survived'))\n",
    "train_dataset[, 1:4] = scale(train_dataset[, 1:4])\n",
    "#train_dataset = subset(train_dataset, select=c('Pclass','Age','Fare','SibSp', 'Parch', \n",
    "#                                               'FsizeD', 'Sex' , 'Title', 'Embarked',\n",
    "#                                               'CabinSection',\n",
    "#                                               'Survived'))\n",
    "#train_dataset[, 1:10] = scale(train_dataset[, 1:10])\n",
    "head(train_dataset, 5)\n",
    "                           \n",
    "test_dataset = full_dataset[892:1309,]\n",
    "str(test_dataset)\n",
    "test_dataset = subset(test_dataset, select=c('PassengerId','Age','FsizeD', 'Sex', 'Pclass')) \n",
    "test_dataset[, 2:5] = scale(test_dataset[, 2:5])\n",
    "#test_dataset = subset(test_dataset, select=c('PassengerId', 'Pclass','Age','Fare', \n",
    "#                                             'SibSp', 'Parch', \n",
    "#                                             'FsizeD', 'Sex' , 'Title', 'Embarked', 'CabinSection'))                          \n",
    "#test_dataset[, 2:11] = scale(test_dataset[, 2:11])\n",
    "head(test_dataset, 5)\n",
    "                     \n",
    "#split to test and train\n",
    "#library(caTools)\n",
    "#set.seed(123)\n",
    "#split = sample.split(dataset$Survived, SplitRatio = 0.8)\n",
    "#training_set = subset(dataset, split == TRUE)\n",
    "#test_set = subset(dataset, split == FALSE)\n"
   ]
  },
  {
   "cell_type": "code",
   "execution_count": 5,
   "metadata": {
    "_cell_guid": "bf5a4ad1-a935-4e5f-95ce-8d3bb9493fca",
    "_uuid": "b799b61e184e0b26308b7e28af60eb08b9d60b37"
   },
   "outputs": [
    {
     "data": {
      "text/plain": [
       "\n",
       "Call:\n",
       "glm(formula = Survived ~ ., family = binomial, data = train_dataset)\n",
       "\n",
       "Deviance Residuals: \n",
       "   Min      1Q  Median      3Q     Max  \n",
       "-2.673  -0.609  -0.428   0.617   2.405  \n",
       "\n",
       "Coefficients:\n",
       "            Estimate Std. Error z value Pr(>|z|)    \n",
       "(Intercept) -0.64580    0.09018  -7.161 7.99e-13 ***\n",
       "Age         -0.49185    0.09937  -4.950 7.43e-07 ***\n",
       "FsizeD      -0.25477    0.09516  -2.677  0.00742 ** \n",
       "Sex          1.32357    0.09543  13.870  < 2e-16 ***\n",
       "Pclass      -1.00085    0.10026  -9.982  < 2e-16 ***\n",
       "---\n",
       "Signif. codes:  0 ‘***’ 0.001 ‘**’ 0.01 ‘*’ 0.05 ‘.’ 0.1 ‘ ’ 1\n",
       "\n",
       "(Dispersion parameter for binomial family taken to be 1)\n",
       "\n",
       "    Null deviance: 1186.66  on 890  degrees of freedom\n",
       "Residual deviance:  797.84  on 886  degrees of freedom\n",
       "AIC: 807.84\n",
       "\n",
       "Number of Fisher Scoring iterations: 5\n"
      ]
     },
     "metadata": {},
     "output_type": "display_data"
    },
    {
     "name": "stdout",
     "output_type": "stream",
     "text": [
      "'data.frame':\t418 obs. of  6 variables:\n",
      " $ PassengerId: int  892 893 894 895 896 897 898 899 900 901 ...\n",
      " $ Age        : num  0.341 1.33 2.517 -0.253 -0.648 ...\n",
      " $ FsizeD     : num  -0.755 0.951 -0.755 -0.755 0.951 ...\n",
      " $ Sex        : num  -0.755 1.321 -0.755 -0.755 1.321 ...\n",
      " $ Pclass     : num  0.872 0.872 -0.315 0.872 0.872 ...\n",
      " $ Survived   : num  0 0 0 0 1 0 1 0 1 0 ...\n"
     ]
    }
   ],
   "source": [
    "# Log reg\n",
    "# ---------                           \n",
    "classifier = glm(Survived ~ ., \n",
    "                family = binomial,\n",
    "                data = train_dataset)                     \n",
    "test_prod_pred = predict(classifier, type='response', newdata = test_dataset)\n",
    "Y_pred = ifelse(test_prod_pred > 0.5, 1, 0)\n",
    "test_dataset$Survived = Y_pred\n",
    "summary(classifier)\n",
    "result = subset(test_dataset, select=c('PassengerId' , 'Survived'))                          \n",
    "write.csv(result, file = \"MyResults23-LogReg.csv\",row.names=FALSE)\n",
    "\n",
    "str(test_dataset)"
   ]
  },
  {
   "cell_type": "code",
   "execution_count": 6,
   "metadata": {
    "_cell_guid": "ef932ccb-3293-4717-b0f8-738bdbc3b20c",
    "_uuid": "d864f5c4be47a327663c755e17d9fa3f12aa578d"
   },
   "outputs": [
    {
     "data": {
      "text/html": [
       "<table>\n",
       "<thead><tr><th></th><th scope=col>PassengerId</th><th scope=col>Survived</th></tr></thead>\n",
       "<tbody>\n",
       "\t<tr><th scope=row>1041</th><td>1041</td><td>0   </td></tr>\n",
       "\t<tr><th scope=row>1042</th><td>1042</td><td>1   </td></tr>\n",
       "\t<tr><th scope=row>1043</th><td>1043</td><td>0   </td></tr>\n",
       "\t<tr><th scope=row>1044</th><td>1044</td><td>0   </td></tr>\n",
       "\t<tr><th scope=row>1045</th><td>1045</td><td>1   </td></tr>\n",
       "\t<tr><th scope=row>1046</th><td>1046</td><td>0   </td></tr>\n",
       "\t<tr><th scope=row>1047</th><td>1047</td><td>0   </td></tr>\n",
       "\t<tr><th scope=row>1048</th><td>1048</td><td>1   </td></tr>\n",
       "\t<tr><th scope=row>1049</th><td>1049</td><td>1   </td></tr>\n",
       "\t<tr><th scope=row>1050</th><td>1050</td><td>0   </td></tr>\n",
       "\t<tr><th scope=row>1051</th><td>1051</td><td>1   </td></tr>\n",
       "</tbody>\n",
       "</table>\n"
      ],
      "text/latex": [
       "\\begin{tabular}{r|ll}\n",
       "  & PassengerId & Survived\\\\\n",
       "\\hline\n",
       "\t1041 & 1041 & 0   \\\\\n",
       "\t1042 & 1042 & 1   \\\\\n",
       "\t1043 & 1043 & 0   \\\\\n",
       "\t1044 & 1044 & 0   \\\\\n",
       "\t1045 & 1045 & 1   \\\\\n",
       "\t1046 & 1046 & 0   \\\\\n",
       "\t1047 & 1047 & 0   \\\\\n",
       "\t1048 & 1048 & 1   \\\\\n",
       "\t1049 & 1049 & 1   \\\\\n",
       "\t1050 & 1050 & 0   \\\\\n",
       "\t1051 & 1051 & 1   \\\\\n",
       "\\end{tabular}\n"
      ],
      "text/markdown": [
       "\n",
       "| <!--/--> | PassengerId | Survived | \n",
       "|---|---|---|---|---|---|---|---|---|---|---|\n",
       "| 1041 | 1041 | 0    | \n",
       "| 1042 | 1042 | 1    | \n",
       "| 1043 | 1043 | 0    | \n",
       "| 1044 | 1044 | 0    | \n",
       "| 1045 | 1045 | 1    | \n",
       "| 1046 | 1046 | 0    | \n",
       "| 1047 | 1047 | 0    | \n",
       "| 1048 | 1048 | 1    | \n",
       "| 1049 | 1049 | 1    | \n",
       "| 1050 | 1050 | 0    | \n",
       "| 1051 | 1051 | 1    | \n",
       "\n",
       "\n"
      ],
      "text/plain": [
       "     PassengerId Survived\n",
       "1041 1041        0       \n",
       "1042 1042        1       \n",
       "1043 1043        0       \n",
       "1044 1044        0       \n",
       "1045 1045        1       \n",
       "1046 1046        0       \n",
       "1047 1047        0       \n",
       "1048 1048        1       \n",
       "1049 1049        1       \n",
       "1050 1050        0       \n",
       "1051 1051        1       "
      ]
     },
     "metadata": {},
     "output_type": "display_data"
    }
   ],
   "source": [
    "# KNN classification\n",
    "# ------------------                           \n",
    "library(class)\n",
    "y_pred = knn(train = train_dataset[, 1:4],\n",
    "             test = test_dataset[, 2:5],\n",
    "             cl = train_dataset[, 5],\n",
    "             k = 25)                       \n",
    "         \n",
    "test_dataset$Survived = y_pred  \n",
    "result = subset(test_dataset, select=c('PassengerId' , 'Survived'))\n",
    "result[150:160, ]  \n",
    "write.csv(result, file = \"MyResults24-KNN.csv\",row.names=FALSE)\n",
    "\n",
    "                      \n"
   ]
  },
  {
   "cell_type": "code",
   "execution_count": 7,
   "metadata": {
    "_cell_guid": "e5635220-3b18-422c-81a3-8361eeff1b1a",
    "_uuid": "ce65d6cc7b18917e424cfdd9b9401579e49a8677"
   },
   "outputs": [
    {
     "data": {
      "text/plain": [
       "\n",
       "Call:\n",
       "svm(formula = Survived ~ ., data = train_dataset, type = \"C-classification\", \n",
       "    kernel = \"radial\")\n",
       "\n",
       "\n",
       "Parameters:\n",
       "   SVM-Type:  C-classification \n",
       " SVM-Kernel:  radial \n",
       "       cost:  1 \n",
       "      gamma:  0.25 \n",
       "\n",
       "Number of Support Vectors:  370\n",
       "\n",
       " ( 188 182 )\n",
       "\n",
       "\n",
       "Number of Classes:  2 \n",
       "\n",
       "Levels: \n",
       " 0 1\n",
       "\n",
       "\n"
      ]
     },
     "metadata": {},
     "output_type": "display_data"
    }
   ],
   "source": [
    "#SVM classification\n",
    "#------------------\n",
    "library(\"e1071\")\n",
    "svm_model = svm(Survived ~ ., \n",
    "                data=train_dataset,\n",
    "                type='C-classification',\n",
    "               kernel='radial')\n",
    "summary(svm_model)\n",
    "\n",
    "\n",
    "test_dataset$Survived = predict(svm_model,test_dataset)\n",
    "result = subset(test_dataset, select=c('PassengerId' , 'Survived'))                          \n",
    "write.csv(result, file = \"MyResults25-SVM.csv\",row.names=FALSE)\n"
   ]
  }
 ],
 "metadata": {
  "kernelspec": {
   "display_name": "R",
   "language": "R",
   "name": "ir"
  },
  "language_info": {
   "codemirror_mode": "r",
   "file_extension": ".r",
   "mimetype": "text/x-r-source",
   "name": "R",
   "pygments_lexer": "r",
   "version": "3.4.2"
  }
 },
 "nbformat": 4,
 "nbformat_minor": 1
}
